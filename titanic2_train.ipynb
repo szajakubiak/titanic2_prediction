{
 "cells": [
  {
   "cell_type": "markdown",
   "id": "22bba36e-bd6e-4c3d-951b-d6d1610b676e",
   "metadata": {},
   "source": [
    "## Import dependencies"
   ]
  },
  {
   "cell_type": "code",
   "execution_count": 27,
   "id": "33c1fffb-7f43-48aa-adcd-ebe112321d8e",
   "metadata": {},
   "outputs": [],
   "source": [
    "import numpy as np\n",
    "import pandas as pd\n",
    "import tensorflow as tf\n",
    "import matplotlib.pyplot as plt"
   ]
  },
  {
   "cell_type": "markdown",
   "id": "326634ae-4e9f-4941-bdda-cd616b3ebdef",
   "metadata": {},
   "source": [
    "## Load training data"
   ]
  },
  {
   "cell_type": "code",
   "execution_count": 2,
   "id": "d88f881e-f481-43a4-af50-f6f36a52db99",
   "metadata": {},
   "outputs": [
    {
     "data": {
      "text/html": [
       "<div>\n",
       "<style scoped>\n",
       "    .dataframe tbody tr th:only-of-type {\n",
       "        vertical-align: middle;\n",
       "    }\n",
       "\n",
       "    .dataframe tbody tr th {\n",
       "        vertical-align: top;\n",
       "    }\n",
       "\n",
       "    .dataframe thead th {\n",
       "        text-align: right;\n",
       "    }\n",
       "</style>\n",
       "<table border=\"1\" class=\"dataframe\">\n",
       "  <thead>\n",
       "    <tr style=\"text-align: right;\">\n",
       "      <th></th>\n",
       "      <th>PassengerId</th>\n",
       "      <th>Survived</th>\n",
       "      <th>Pclass</th>\n",
       "      <th>Name</th>\n",
       "      <th>Sex</th>\n",
       "      <th>Age</th>\n",
       "      <th>SibSp</th>\n",
       "      <th>Parch</th>\n",
       "      <th>Ticket</th>\n",
       "      <th>Fare</th>\n",
       "      <th>Cabin</th>\n",
       "      <th>Embarked</th>\n",
       "    </tr>\n",
       "  </thead>\n",
       "  <tbody>\n",
       "    <tr>\n",
       "      <th>0</th>\n",
       "      <td>1</td>\n",
       "      <td>0</td>\n",
       "      <td>3</td>\n",
       "      <td>Braund, Mr. Owen Harris</td>\n",
       "      <td>male</td>\n",
       "      <td>22.0</td>\n",
       "      <td>1</td>\n",
       "      <td>0</td>\n",
       "      <td>A/5 21171</td>\n",
       "      <td>7.2500</td>\n",
       "      <td>NaN</td>\n",
       "      <td>S</td>\n",
       "    </tr>\n",
       "    <tr>\n",
       "      <th>1</th>\n",
       "      <td>2</td>\n",
       "      <td>1</td>\n",
       "      <td>1</td>\n",
       "      <td>Cumings, Mrs. John Bradley (Florence Briggs Th...</td>\n",
       "      <td>female</td>\n",
       "      <td>38.0</td>\n",
       "      <td>1</td>\n",
       "      <td>0</td>\n",
       "      <td>PC 17599</td>\n",
       "      <td>71.2833</td>\n",
       "      <td>C85</td>\n",
       "      <td>C</td>\n",
       "    </tr>\n",
       "    <tr>\n",
       "      <th>2</th>\n",
       "      <td>3</td>\n",
       "      <td>1</td>\n",
       "      <td>3</td>\n",
       "      <td>Heikkinen, Miss. Laina</td>\n",
       "      <td>female</td>\n",
       "      <td>26.0</td>\n",
       "      <td>0</td>\n",
       "      <td>0</td>\n",
       "      <td>STON/O2. 3101282</td>\n",
       "      <td>7.9250</td>\n",
       "      <td>NaN</td>\n",
       "      <td>S</td>\n",
       "    </tr>\n",
       "    <tr>\n",
       "      <th>3</th>\n",
       "      <td>4</td>\n",
       "      <td>1</td>\n",
       "      <td>1</td>\n",
       "      <td>Futrelle, Mrs. Jacques Heath (Lily May Peel)</td>\n",
       "      <td>female</td>\n",
       "      <td>35.0</td>\n",
       "      <td>1</td>\n",
       "      <td>0</td>\n",
       "      <td>113803</td>\n",
       "      <td>53.1000</td>\n",
       "      <td>C123</td>\n",
       "      <td>S</td>\n",
       "    </tr>\n",
       "    <tr>\n",
       "      <th>4</th>\n",
       "      <td>5</td>\n",
       "      <td>0</td>\n",
       "      <td>3</td>\n",
       "      <td>Allen, Mr. William Henry</td>\n",
       "      <td>male</td>\n",
       "      <td>35.0</td>\n",
       "      <td>0</td>\n",
       "      <td>0</td>\n",
       "      <td>373450</td>\n",
       "      <td>8.0500</td>\n",
       "      <td>NaN</td>\n",
       "      <td>S</td>\n",
       "    </tr>\n",
       "    <tr>\n",
       "      <th>...</th>\n",
       "      <td>...</td>\n",
       "      <td>...</td>\n",
       "      <td>...</td>\n",
       "      <td>...</td>\n",
       "      <td>...</td>\n",
       "      <td>...</td>\n",
       "      <td>...</td>\n",
       "      <td>...</td>\n",
       "      <td>...</td>\n",
       "      <td>...</td>\n",
       "      <td>...</td>\n",
       "      <td>...</td>\n",
       "    </tr>\n",
       "    <tr>\n",
       "      <th>886</th>\n",
       "      <td>887</td>\n",
       "      <td>0</td>\n",
       "      <td>2</td>\n",
       "      <td>Montvila, Rev. Juozas</td>\n",
       "      <td>male</td>\n",
       "      <td>27.0</td>\n",
       "      <td>0</td>\n",
       "      <td>0</td>\n",
       "      <td>211536</td>\n",
       "      <td>13.0000</td>\n",
       "      <td>NaN</td>\n",
       "      <td>S</td>\n",
       "    </tr>\n",
       "    <tr>\n",
       "      <th>887</th>\n",
       "      <td>888</td>\n",
       "      <td>1</td>\n",
       "      <td>1</td>\n",
       "      <td>Graham, Miss. Margaret Edith</td>\n",
       "      <td>female</td>\n",
       "      <td>19.0</td>\n",
       "      <td>0</td>\n",
       "      <td>0</td>\n",
       "      <td>112053</td>\n",
       "      <td>30.0000</td>\n",
       "      <td>B42</td>\n",
       "      <td>S</td>\n",
       "    </tr>\n",
       "    <tr>\n",
       "      <th>888</th>\n",
       "      <td>889</td>\n",
       "      <td>0</td>\n",
       "      <td>3</td>\n",
       "      <td>Johnston, Miss. Catherine Helen \"Carrie\"</td>\n",
       "      <td>female</td>\n",
       "      <td>NaN</td>\n",
       "      <td>1</td>\n",
       "      <td>2</td>\n",
       "      <td>W./C. 6607</td>\n",
       "      <td>23.4500</td>\n",
       "      <td>NaN</td>\n",
       "      <td>S</td>\n",
       "    </tr>\n",
       "    <tr>\n",
       "      <th>889</th>\n",
       "      <td>890</td>\n",
       "      <td>1</td>\n",
       "      <td>1</td>\n",
       "      <td>Behr, Mr. Karl Howell</td>\n",
       "      <td>male</td>\n",
       "      <td>26.0</td>\n",
       "      <td>0</td>\n",
       "      <td>0</td>\n",
       "      <td>111369</td>\n",
       "      <td>30.0000</td>\n",
       "      <td>C148</td>\n",
       "      <td>C</td>\n",
       "    </tr>\n",
       "    <tr>\n",
       "      <th>890</th>\n",
       "      <td>891</td>\n",
       "      <td>0</td>\n",
       "      <td>3</td>\n",
       "      <td>Dooley, Mr. Patrick</td>\n",
       "      <td>male</td>\n",
       "      <td>32.0</td>\n",
       "      <td>0</td>\n",
       "      <td>0</td>\n",
       "      <td>370376</td>\n",
       "      <td>7.7500</td>\n",
       "      <td>NaN</td>\n",
       "      <td>Q</td>\n",
       "    </tr>\n",
       "  </tbody>\n",
       "</table>\n",
       "<p>891 rows × 12 columns</p>\n",
       "</div>"
      ],
      "text/plain": [
       "     PassengerId  Survived  Pclass  \\\n",
       "0              1         0       3   \n",
       "1              2         1       1   \n",
       "2              3         1       3   \n",
       "3              4         1       1   \n",
       "4              5         0       3   \n",
       "..           ...       ...     ...   \n",
       "886          887         0       2   \n",
       "887          888         1       1   \n",
       "888          889         0       3   \n",
       "889          890         1       1   \n",
       "890          891         0       3   \n",
       "\n",
       "                                                  Name     Sex   Age  SibSp  \\\n",
       "0                              Braund, Mr. Owen Harris    male  22.0      1   \n",
       "1    Cumings, Mrs. John Bradley (Florence Briggs Th...  female  38.0      1   \n",
       "2                               Heikkinen, Miss. Laina  female  26.0      0   \n",
       "3         Futrelle, Mrs. Jacques Heath (Lily May Peel)  female  35.0      1   \n",
       "4                             Allen, Mr. William Henry    male  35.0      0   \n",
       "..                                                 ...     ...   ...    ...   \n",
       "886                              Montvila, Rev. Juozas    male  27.0      0   \n",
       "887                       Graham, Miss. Margaret Edith  female  19.0      0   \n",
       "888           Johnston, Miss. Catherine Helen \"Carrie\"  female   NaN      1   \n",
       "889                              Behr, Mr. Karl Howell    male  26.0      0   \n",
       "890                                Dooley, Mr. Patrick    male  32.0      0   \n",
       "\n",
       "     Parch            Ticket     Fare Cabin Embarked  \n",
       "0        0         A/5 21171   7.2500   NaN        S  \n",
       "1        0          PC 17599  71.2833   C85        C  \n",
       "2        0  STON/O2. 3101282   7.9250   NaN        S  \n",
       "3        0            113803  53.1000  C123        S  \n",
       "4        0            373450   8.0500   NaN        S  \n",
       "..     ...               ...      ...   ...      ...  \n",
       "886      0            211536  13.0000   NaN        S  \n",
       "887      0            112053  30.0000   B42        S  \n",
       "888      2        W./C. 6607  23.4500   NaN        S  \n",
       "889      0            111369  30.0000  C148        C  \n",
       "890      0            370376   7.7500   NaN        Q  \n",
       "\n",
       "[891 rows x 12 columns]"
      ]
     },
     "execution_count": 2,
     "metadata": {},
     "output_type": "execute_result"
    }
   ],
   "source": [
    "train_data_file = \"train.csv\"\n",
    "train_data = pd.read_csv(train_data_file)\n",
    "train_data"
   ]
  },
  {
   "cell_type": "markdown",
   "id": "734c0765-a498-4c68-af6a-a7dc81b0d411",
   "metadata": {},
   "source": [
    "## Fill NaN with mean values"
   ]
  },
  {
   "cell_type": "code",
   "execution_count": 39,
   "id": "21a493c0-421f-4c83-93cc-cfc7bb8df832",
   "metadata": {},
   "outputs": [],
   "source": [
    "train_data[\"Age\"].fillna(value = train_data[\"Age\"].mean(), inplace = True)"
   ]
  },
  {
   "cell_type": "markdown",
   "id": "ed322083-f168-4421-9963-a8431b6883d6",
   "metadata": {},
   "source": [
    "## Select data to train the model"
   ]
  },
  {
   "cell_type": "code",
   "execution_count": 40,
   "id": "796783cc-5c59-4959-809f-9afa323b77e6",
   "metadata": {},
   "outputs": [
    {
     "data": {
      "image/png": "[encoded data removed]",
      "text/plain": [
       "<Figure size 432x288 with 1 Axes>"
      ]
     },
     "metadata": {
      "needs_background": "light"
     },
     "output_type": "display_data"
    }
   ],
   "source": [
    "# Select input\n",
    "input_values = train_data.loc[:, [\"Pclass\", \"Age\", \"SibSp\", \"Parch\", \"Fare\"]].copy()\n",
    "\n",
    "# Select flag values\n",
    "flag_values = train_data[\"Survived\"].copy()\n",
    "\n",
    "# Plot data\n",
    "plt.plot(input_values[\"Pclass\"], flag_values, \"k.\")\n",
    "plt.show()"
   ]
  },
  {
   "cell_type": "markdown",
   "id": "4086d31c-08b0-4c8d-a719-834937f17a1a",
   "metadata": {},
   "source": [
    "## Split data for training, validation and testing"
   ]
  },
  {
   "cell_type": "code",
   "execution_count": 41,
   "id": "09d63b96-6ce0-49e3-a3f8-384a3e638bb8",
   "metadata": {},
   "outputs": [
    {
     "data": {
      "image/png": "[encoded data removed]",
      "text/plain": [
       "<Figure size 432x288 with 1 Axes>"
      ]
     },
     "metadata": {
      "needs_background": "light"
     },
     "output_type": "display_data"
    }
   ],
   "source": [
    "SAMPLES = train_data.shape[0]\n",
    "\n",
    "# 65% for training\n",
    "TRAIN_SPLIT = int(0.65 * SAMPLES)\n",
    "# 25% for testing (so next division at 65% + 25% = 90%)\n",
    "TEST_SPLIT = int(0.25 * SAMPLES + TRAIN_SPLIT)\n",
    "\n",
    "# Store new data sets\n",
    "input_train, input_validate, input_test = np.split(input_values, [TRAIN_SPLIT, TEST_SPLIT])\n",
    "flag_train, flag_validate, flag_test = np.split(flag_values, [TRAIN_SPLIT, TEST_SPLIT])\n",
    "\n",
    "# Plot\n",
    "plt.plot(input_train[\"Pclass\"], flag_train, \"k.\", label=\"Train\")\n",
    "plt.plot(input_validate[\"Pclass\"], flag_validate, \"b.\", label=\"Validate\")\n",
    "plt.plot(input_test[\"Pclass\"], flag_test, \"r.\", label=\"Test\")\n",
    "plt.legend()\n",
    "plt.show()"
   ]
  },
  {
   "cell_type": "markdown",
   "id": "e52f0300-bf86-4993-971c-c401448ad101",
   "metadata": {},
   "source": [
    "## Define the ML model"
   ]
  },
  {
   "cell_type": "code",
   "execution_count": 47,
   "id": "d9d0a808-a547-46aa-8922-3f66e0ff8511",
   "metadata": {},
   "outputs": [
    {
     "name": "stdout",
     "output_type": "stream",
     "text": [
      "Model: \"sequential_4\"\n",
      "_________________________________________________________________\n",
      "Layer (type)                 Output Shape              Param #   \n",
      "=================================================================\n",
      "dense_12 (Dense)             (None, 16)                96        \n",
      "_________________________________________________________________\n",
      "dense_13 (Dense)             (None, 16)                272       \n",
      "_________________________________________________________________\n",
      "dense_14 (Dense)             (None, 16)                272       \n",
      "_________________________________________________________________\n",
      "dense_15 (Dense)             (None, 16)                272       \n",
      "_________________________________________________________________\n",
      "dense_16 (Dense)             (None, 1)                 17        \n",
      "=================================================================\n",
      "Total params: 929\n",
      "Trainable params: 929\n",
      "Non-trainable params: 0\n",
      "_________________________________________________________________\n"
     ]
    }
   ],
   "source": [
    "from tensorflow.keras import layers\n",
    "\n",
    "model = tf.keras.Sequential()\n",
    "\n",
    "model.add(layers.Dense(16, activation=\"relu\", input_shape=(5,)))\n",
    "model.add(layers.Dense(16, activation=\"relu\"))\n",
    "model.add(layers.Dense(16, activation=\"relu\"))\n",
    "model.add(layers.Dense(16, activation=\"relu\"))\n",
    "model.add(layers.Dense(1))\n",
    "\n",
    "model.compile(optimizer=\"rmsprop\", loss=\"mse\", metrics=[\"mae\"])\n",
    "\n",
    "model.summary()"
   ]
  },
  {
   "cell_type": "markdown",
   "id": "868fb423-efe4-41ad-9302-f9ff024794f5",
   "metadata": {},
   "source": [
    "## Train the ML model"
   ]
  },
  {
   "cell_type": "code",
   "execution_count": 48,
   "id": "665746c7-aacc-4a25-a0ee-d07ab380cf8c",
   "metadata": {},
   "outputs": [
    {
     "name": "stdout",
     "output_type": "stream",
     "text": [
      "Epoch 1/50\n",
      "19/19 [==============================] - 1s 10ms/step - loss: 11.5027 - mae: 1.6478 - val_loss: 1174.8363 - val_mae: 13.7848\n",
      "Epoch 2/50\n",
      "19/19 [==============================] - 0s 3ms/step - loss: 1.2917 - mae: 0.6677 - val_loss: 1228.4622 - val_mae: 13.8028\n",
      "Epoch 3/50\n",
      "19/19 [==============================] - 0s 3ms/step - loss: 0.2978 - mae: 0.4633 - val_loss: 1238.2305 - val_mae: 13.8328\n",
      "Epoch 4/50\n",
      "19/19 [==============================] - 0s 3ms/step - loss: 0.2752 - mae: 0.4563 - val_loss: 1230.6520 - val_mae: 13.8012\n",
      "Epoch 5/50\n",
      "19/19 [==============================] - 0s 3ms/step - loss: 0.2708 - mae: 0.4473 - val_loss: 1236.7053 - val_mae: 13.7889\n",
      "Epoch 6/50\n",
      "19/19 [==============================] - 0s 3ms/step - loss: 0.2697 - mae: 0.4632 - val_loss: 1232.8296 - val_mae: 13.7880\n",
      "Epoch 7/50\n",
      "19/19 [==============================] - 0s 3ms/step - loss: 0.2855 - mae: 0.4656 - val_loss: 1246.4791 - val_mae: 13.8517\n",
      "Epoch 8/50\n",
      "19/19 [==============================] - 0s 4ms/step - loss: 0.2609 - mae: 0.4520 - val_loss: 1243.7047 - val_mae: 13.8389\n",
      "Epoch 9/50\n",
      "19/19 [==============================] - 0s 3ms/step - loss: 0.2824 - mae: 0.4554 - val_loss: 1241.2186 - val_mae: 13.8241\n",
      "Epoch 10/50\n",
      "19/19 [==============================] - 0s 3ms/step - loss: 0.2407 - mae: 0.4392 - val_loss: 1237.1335 - val_mae: 13.8098\n",
      "Epoch 11/50\n",
      "19/19 [==============================] - 0s 3ms/step - loss: 0.2578 - mae: 0.4438 - val_loss: 1230.4257 - val_mae: 13.8006\n",
      "Epoch 12/50\n",
      "19/19 [==============================] - 0s 3ms/step - loss: 0.2511 - mae: 0.4376 - val_loss: 1224.6919 - val_mae: 13.7667\n",
      "Epoch 13/50\n",
      "19/19 [==============================] - 0s 3ms/step - loss: 0.2505 - mae: 0.4435 - val_loss: 1235.6566 - val_mae: 13.7737\n",
      "Epoch 14/50\n",
      "19/19 [==============================] - 0s 3ms/step - loss: 0.2483 - mae: 0.4430 - val_loss: 1234.9069 - val_mae: 13.7767\n",
      "Epoch 15/50\n",
      "19/19 [==============================] - 0s 3ms/step - loss: 0.2411 - mae: 0.4388 - val_loss: 1244.3448 - val_mae: 13.8198\n",
      "Epoch 16/50\n",
      "19/19 [==============================] - 0s 3ms/step - loss: 0.2430 - mae: 0.4391 - val_loss: 1255.5895 - val_mae: 13.9034\n",
      "Epoch 17/50\n",
      "19/19 [==============================] - 0s 3ms/step - loss: 0.2359 - mae: 0.4394 - val_loss: 1232.7704 - val_mae: 13.7602\n",
      "Epoch 18/50\n",
      "19/19 [==============================] - 0s 3ms/step - loss: 0.2553 - mae: 0.4506 - val_loss: 1248.6493 - val_mae: 13.8426\n",
      "Epoch 19/50\n",
      "19/19 [==============================] - 0s 4ms/step - loss: 0.2350 - mae: 0.4358 - val_loss: 1242.6904 - val_mae: 13.8078\n",
      "Epoch 20/50\n",
      "19/19 [==============================] - 0s 4ms/step - loss: 0.2319 - mae: 0.4257 - val_loss: 1248.1036 - val_mae: 13.8233\n",
      "Epoch 21/50\n",
      "19/19 [==============================] - 0s 3ms/step - loss: 0.2296 - mae: 0.4373 - val_loss: 1230.2108 - val_mae: 13.7566\n",
      "Epoch 22/50\n",
      "19/19 [==============================] - 0s 3ms/step - loss: 0.2320 - mae: 0.4229 - val_loss: 1231.2421 - val_mae: 13.7589\n",
      "Epoch 23/50\n",
      "19/19 [==============================] - 0s 3ms/step - loss: 0.2255 - mae: 0.4274 - val_loss: 1247.7902 - val_mae: 13.8382\n",
      "Epoch 24/50\n",
      "19/19 [==============================] - 0s 3ms/step - loss: 0.2421 - mae: 0.4326 - val_loss: 1234.3660 - val_mae: 13.7720\n",
      "Epoch 25/50\n",
      "19/19 [==============================] - 0s 3ms/step - loss: 0.2391 - mae: 0.4323 - val_loss: 1245.7067 - val_mae: 13.8329\n",
      "Epoch 26/50\n",
      "19/19 [==============================] - 0s 3ms/step - loss: 0.2328 - mae: 0.4246 - val_loss: 1241.0818 - val_mae: 13.8007\n",
      "Epoch 27/50\n",
      "19/19 [==============================] - 0s 3ms/step - loss: 0.2141 - mae: 0.4162 - val_loss: 1240.8646 - val_mae: 13.7907\n",
      "Epoch 28/50\n",
      "19/19 [==============================] - 0s 4ms/step - loss: 0.2243 - mae: 0.4253 - val_loss: 1252.3165 - val_mae: 13.8687\n",
      "Epoch 29/50\n",
      "19/19 [==============================] - 0s 4ms/step - loss: 0.2296 - mae: 0.4321 - val_loss: 1239.4911 - val_mae: 13.7810\n",
      "Epoch 30/50\n",
      "19/19 [==============================] - 0s 3ms/step - loss: 0.2143 - mae: 0.4192 - val_loss: 1230.8564 - val_mae: 13.7416\n",
      "Epoch 31/50\n",
      "19/19 [==============================] - 0s 3ms/step - loss: 0.2264 - mae: 0.4269 - val_loss: 1217.4475 - val_mae: 13.7341\n",
      "Epoch 32/50\n",
      "19/19 [==============================] - 0s 3ms/step - loss: 0.2324 - mae: 0.4259 - val_loss: 1250.6553 - val_mae: 13.8626\n",
      "Epoch 33/50\n",
      "19/19 [==============================] - 0s 4ms/step - loss: 0.2155 - mae: 0.4119 - val_loss: 1236.0168 - val_mae: 13.7526\n",
      "Epoch 34/50\n",
      "19/19 [==============================] - 0s 4ms/step - loss: 0.2162 - mae: 0.4179 - val_loss: 1226.5669 - val_mae: 13.7387\n",
      "Epoch 35/50\n",
      "19/19 [==============================] - 0s 3ms/step - loss: 0.2213 - mae: 0.4227 - val_loss: 1231.5509 - val_mae: 13.7463\n",
      "Epoch 36/50\n",
      "19/19 [==============================] - 0s 3ms/step - loss: 0.2299 - mae: 0.4214 - val_loss: 1234.7303 - val_mae: 13.7759\n",
      "Epoch 37/50\n",
      "19/19 [==============================] - 0s 3ms/step - loss: 0.2170 - mae: 0.4161 - val_loss: 1241.0760 - val_mae: 13.7882\n",
      "Epoch 38/50\n",
      "19/19 [==============================] - 0s 3ms/step - loss: 0.2230 - mae: 0.4120 - val_loss: 1238.4503 - val_mae: 13.7655\n",
      "Epoch 39/50\n",
      "19/19 [==============================] - 0s 3ms/step - loss: 0.2225 - mae: 0.4280 - val_loss: 1246.9491 - val_mae: 13.8511\n",
      "Epoch 40/50\n",
      "19/19 [==============================] - 0s 3ms/step - loss: 0.2211 - mae: 0.4194 - val_loss: 1237.2800 - val_mae: 13.7837\n",
      "Epoch 41/50\n",
      "19/19 [==============================] - 0s 3ms/step - loss: 0.2187 - mae: 0.4154 - val_loss: 1232.1040 - val_mae: 13.7488\n",
      "Epoch 42/50\n",
      "19/19 [==============================] - 0s 4ms/step - loss: 0.2184 - mae: 0.4228 - val_loss: 1240.0149 - val_mae: 13.7825\n",
      "Epoch 43/50\n",
      "19/19 [==============================] - 0s 4ms/step - loss: 0.2230 - mae: 0.4282 - val_loss: 1240.9402 - val_mae: 13.7835\n",
      "Epoch 44/50\n",
      "19/19 [==============================] - 0s 4ms/step - loss: 0.2193 - mae: 0.4235 - val_loss: 1239.4296 - val_mae: 13.7881\n",
      "Epoch 45/50\n",
      "19/19 [==============================] - 0s 3ms/step - loss: 0.2142 - mae: 0.4149 - val_loss: 1236.2708 - val_mae: 13.7539\n",
      "Epoch 46/50\n",
      "19/19 [==============================] - 0s 3ms/step - loss: 0.2258 - mae: 0.4216 - val_loss: 1236.1023 - val_mae: 13.7825\n",
      "Epoch 47/50\n",
      "19/19 [==============================] - 0s 4ms/step - loss: 0.2138 - mae: 0.4106 - val_loss: 1241.0322 - val_mae: 13.7938\n",
      "Epoch 48/50\n",
      "19/19 [==============================] - 0s 4ms/step - loss: 0.2096 - mae: 0.4135 - val_loss: 1242.3436 - val_mae: 13.8047\n",
      "Epoch 49/50\n",
      "19/19 [==============================] - 0s 4ms/step - loss: 0.2159 - mae: 0.4054 - val_loss: 1250.3392 - val_mae: 13.8648\n",
      "Epoch 50/50\n",
      "19/19 [==============================] - 0s 3ms/step - loss: 0.2187 - mae: 0.4092 - val_loss: 1236.0649 - val_mae: 13.7605\n"
     ]
    }
   ],
   "source": [
    "titanic2_ml = model.fit(input_train, flag_train, epochs=50, batch_size=32, validation_data=(input_validate, input_validate))"
   ]
  },
  {
   "cell_type": "markdown",
   "id": "6c3a6818-637c-4c71-aa0e-46de7bcb9436",
   "metadata": {},
   "source": [
    "## Output analysis"
   ]
  },
  {
   "cell_type": "code",
   "execution_count": 49,
   "id": "6771e5fd-ee0d-4748-9e09-2d523e43a169",
   "metadata": {},
   "outputs": [
    {
     "data": {
      "image/png": "[encoded data removed]",
      "text/plain": [
       "<Figure size 432x288 with 1 Axes>"
      ]
     },
     "metadata": {
      "needs_background": "light"
     },
     "output_type": "display_data"
    }
   ],
   "source": [
    "def graph_loss(model, skip=0):\n",
    "  loss = model.history[\"loss\"]\n",
    "  val_loss = model.history[\"val_loss\"]\n",
    "\n",
    "  epochs = range(1, len(loss) + 1)\n",
    "\n",
    "  plt.plot(epochs[skip:], loss[skip:], \"k.\", label = \"Training loss\")\n",
    "  plt.plot(epochs[skip:], val_loss[skip:], \"r.\", label = \"Validation loss\")\n",
    "  plt.title(\"Training and validation loss\")\n",
    "  plt.xlabel(\"Epochs\")\n",
    "  plt.ylabel(\"Loss\")\n",
    "  plt.legend()\n",
    "  plt.show()\n",
    "\n",
    "graph_loss(titanic2_ml)"
   ]
  },
  {
   "cell_type": "code",
   "execution_count": 50,
   "id": "0fe10bf4-a351-4f44-9f92-7e4f6afd0a32",
   "metadata": {},
   "outputs": [
    {
     "data": {
      "image/png": "[encoded data removed]",
      "text/plain": [
       "<Figure size 360x360 with 1 Axes>"
      ]
     },
     "metadata": {
      "needs_background": "light"
     },
     "output_type": "display_data"
    }
   ],
   "source": [
    "mae = titanic2_ml.history[\"mae\"]\n",
    "val_mae = titanic2_ml.history[\"val_mae\"]\n",
    "epochs = range(1, len(mae) + 1)\n",
    "skip = 0\n",
    "\n",
    "fig, ax1 = plt.subplots(1, 1, figsize=(5,5))\n",
    "\n",
    "ax1.plot(epochs[skip:], mae[skip:], \"k.\", label = \"Training MAE\")\n",
    "ax1.plot(epochs[skip:], val_mae[skip:], \"r.\", label = \"Validation MAE\")\n",
    "text_pos_x = 0.10\n",
    "text_pos_y = 0.95\n",
    "#ax1.text(text_pos_x, text_pos_y, \"(b) PM10\", transform=ax1.transAxes)\n",
    "ax1.set_xlabel(\"Epochs\", fontweight=\"bold\")\n",
    "ax1.set_ylabel(\"Mean absolute error\", fontweight=\"bold\")\n",
    "ax1.legend(loc='upper right')\n",
    "plt.show()"
   ]
  },
  {
   "cell_type": "code",
   "execution_count": null,
   "id": "86a1f121-ae6e-457c-a9e6-a11a0d4fd85b",
   "metadata": {},
   "outputs": [],
   "source": []
  }
 ],
 "metadata": {
  "kernelspec": {
   "display_name": "Python 3",
   "language": "python",
   "name": "python3"
  },
  "language_info": {
   "codemirror_mode": {
    "name": "ipython",
    "version": 3
   },
   "file_extension": ".py",
   "mimetype": "text/x-python",
   "name": "python",
   "nbconvert_exporter": "python",
   "pygments_lexer": "ipython3",
   "version": "3.9.1"
  }
 },
 "nbformat": 4,
 "nbformat_minor": 5
}
